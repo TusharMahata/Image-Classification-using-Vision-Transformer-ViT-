{
 "cells": [
  {
   "cell_type": "code",
   "execution_count": 2,
   "id": "0f13bc50",
   "metadata": {},
   "outputs": [],
   "source": [
    "import os\n",
    "os.environ['TF_CPP_MIN_LOG_LEVEL'] = '2'\n",
    "\n",
    "import tensorflow as tf\n",
    "from tensorflow.keras.layers import *\n",
    "from tensorflow.keras.models import Model"
   ]
  },
  {
   "cell_type": "code",
   "execution_count": 11,
   "id": "b12b5156",
   "metadata": {},
   "outputs": [],
   "source": [
    "def ViT(cf):\n",
    "    input_shape = (cf['num_patches'], cf['patch_size']*cf['patch_size']*cf['num_channels'])\n",
    "    inputs = Input(input_shape)\n",
    "    # (None, 256, 3072)\n",
    "    \n",
    "    # patch + position embedding\n",
    "    patch_embed = Dense(cf['hidden_dim'])(inputs)\n",
    "    # (None, 256, 768)\n",
    "    \n",
    "    positions = tf.range(start=0, limit=cf['num_patches'], delta=1)\n",
    "    # print(positions)\n",
    "    pos_emded = Embeddding(input_dim = cf['num_patches'], output_dim = cf['hidden_dim'])(positions)\n",
    "    "
   ]
  },
  {
   "cell_type": "code",
   "execution_count": 12,
   "id": "573a6762",
   "metadata": {},
   "outputs": [
    {
     "name": "stdout",
     "output_type": "stream",
     "text": [
      "tf.Tensor(\n",
      "[  0   1   2   3   4   5   6   7   8   9  10  11  12  13  14  15  16  17\n",
      "  18  19  20  21  22  23  24  25  26  27  28  29  30  31  32  33  34  35\n",
      "  36  37  38  39  40  41  42  43  44  45  46  47  48  49  50  51  52  53\n",
      "  54  55  56  57  58  59  60  61  62  63  64  65  66  67  68  69  70  71\n",
      "  72  73  74  75  76  77  78  79  80  81  82  83  84  85  86  87  88  89\n",
      "  90  91  92  93  94  95  96  97  98  99 100 101 102 103 104 105 106 107\n",
      " 108 109 110 111 112 113 114 115 116 117 118 119 120 121 122 123 124 125\n",
      " 126 127 128 129 130 131 132 133 134 135 136 137 138 139 140 141 142 143\n",
      " 144 145 146 147 148 149 150 151 152 153 154 155 156 157 158 159 160 161\n",
      " 162 163 164 165 166 167 168 169 170 171 172 173 174 175 176 177 178 179\n",
      " 180 181 182 183 184 185 186 187 188 189 190 191 192 193 194 195 196 197\n",
      " 198 199 200 201 202 203 204 205 206 207 208 209 210 211 212 213 214 215\n",
      " 216 217 218 219 220 221 222 223 224 225 226 227 228 229 230 231 232 233\n",
      " 234 235 236 237 238 239 240 241 242 243 244 245 246 247 248 249 250 251\n",
      " 252 253 254 255], shape=(256,), dtype=int32)\n"
     ]
    }
   ],
   "source": [
    "if __name__=='__main__':\n",
    "    config = {}\n",
    "    config['num_layers'] = 12\n",
    "    config['hidden_dim'] = 768\n",
    "    config['mlp_dim'] = 3072\n",
    "    config['num_heads'] = 12\n",
    "    config['dropout_rate'] = 0.1\n",
    "    config['num_patches'] = 256\n",
    "    config['patch_size'] = 32\n",
    "    config['num_channels'] = 3\n",
    "    \n",
    "    ViT(config)"
   ]
  },
  {
   "cell_type": "code",
   "execution_count": null,
   "id": "9be9ae0b",
   "metadata": {},
   "outputs": [],
   "source": []
  },
  {
   "cell_type": "code",
   "execution_count": null,
   "id": "a26920e7",
   "metadata": {},
   "outputs": [],
   "source": []
  }
 ],
 "metadata": {
  "kernelspec": {
   "display_name": "Python 3 (ipykernel)",
   "language": "python",
   "name": "python3"
  },
  "language_info": {
   "codemirror_mode": {
    "name": "ipython",
    "version": 3
   },
   "file_extension": ".py",
   "mimetype": "text/x-python",
   "name": "python",
   "nbconvert_exporter": "python",
   "pygments_lexer": "ipython3",
   "version": "3.10.4"
  }
 },
 "nbformat": 4,
 "nbformat_minor": 5
}
