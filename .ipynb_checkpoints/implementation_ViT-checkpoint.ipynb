{
 "cells": [
  {
   "cell_type": "code",
   "execution_count": 2,
   "id": "8230341f",
   "metadata": {},
   "outputs": [],
   "source": [
    "import os\n",
    "os.environ['TF_CPP_MIN_LOG_LEVEL'] = '2'\n",
    "\n",
    "import tensorflow as tf\n",
    "from tensorflow.keras.layers import *\n",
    "from tensorflow.keras.models import Model"
   ]
  },
  {
   "cell_type": "code",
   "execution_count": null,
   "id": "2d578cc4",
   "metadata": {},
   "outputs": [],
   "source": [
    "class ClassToken(Layers):\n",
    "    def __init__(self):\n",
    "        super().__init__()\n",
    "        \n",
    "    def build(self, input_shape):\n",
    "        w_init = tf.random_normal_initializer()\n",
    "        self.w = tf.Variable(\n",
    "            initial_value = w_init(shape=(1,1, input_shape[-1]), dtype = tf.float32),\n",
    "            trainable = True\n",
    "        )\n",
    "    \n",
    "    def call(self, inputs):\n",
    "        pass"
   ]
  },
  {
   "cell_type": "code",
   "execution_count": 19,
   "id": "d5a8edb3",
   "metadata": {},
   "outputs": [],
   "source": [
    "def ViT(cf):\n",
    "    input_shape = (cf['num_patches'], cf['patch_size']*cf['patch_size']*cf['num_channels'])\n",
    "    inputs = Input(input_shape)\n",
    "    # (None, 256, 3072)\n",
    "    \n",
    "    # patch + position embedding\n",
    "    patch_embed = Dense(cf['hidden_dim'])(inputs)\n",
    "    # (None, 256, 768)\n",
    "    \n",
    "    positions = tf.range(start=0, limit=cf['num_patches'], delta=1)\n",
    "    # print(positions)\n",
    "    pos_embed = Embedding(input_dim = cf['num_patches'], output_dim = cf['hidden_dim'])(positions)\n",
    "    # (256, 768)\n",
    "    embed = patch_embed + pos_embed\n",
    "    print(embed.shape)"
   ]
  },
  {
   "cell_type": "code",
   "execution_count": 20,
   "id": "abcc614a",
   "metadata": {},
   "outputs": [
    {
     "name": "stdout",
     "output_type": "stream",
     "text": [
      "(None, 256, 768)\n"
     ]
    }
   ],
   "source": [
    "if __name__=='__main__':\n",
    "    config = {}\n",
    "    config['num_layers'] = 12\n",
    "    config['hidden_dim'] = 768\n",
    "    config['mlp_dim'] = 3072\n",
    "    config['num_heads'] = 12\n",
    "    config['dropout_rate'] = 0.1\n",
    "    config['num_patches'] = 256\n",
    "    config['patch_size'] = 32\n",
    "    config['num_channels'] = 3\n",
    "    \n",
    "    ViT(config)"
   ]
  },
  {
   "cell_type": "code",
   "execution_count": null,
   "id": "f3e3c03d",
   "metadata": {},
   "outputs": [],
   "source": []
  },
  {
   "cell_type": "code",
   "execution_count": null,
   "id": "b8b68ce2",
   "metadata": {},
   "outputs": [],
   "source": []
  }
 ],
 "metadata": {
  "kernelspec": {
   "display_name": "Python 3 (ipykernel)",
   "language": "python",
   "name": "python3"
  },
  "language_info": {
   "codemirror_mode": {
    "name": "ipython",
    "version": 3
   },
   "file_extension": ".py",
   "mimetype": "text/x-python",
   "name": "python",
   "nbconvert_exporter": "python",
   "pygments_lexer": "ipython3",
   "version": "3.10.4"
  }
 },
 "nbformat": 4,
 "nbformat_minor": 5
}
